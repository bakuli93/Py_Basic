{
  "nbformat": 4,
  "nbformat_minor": 0,
  "metadata": {
    "colab": {
      "provenance": []
    },
    "kernelspec": {
      "name": "python3",
      "display_name": "Python 3"
    },
    "language_info": {
      "name": "python"
    }
  },
  "cells": [
    {
      "cell_type": "markdown",
      "source": [
        "#Python Basic Assignment"
      ],
      "metadata": {
        "id": "Jjjh3JiMzmGG"
      }
    },
    {
      "cell_type": "markdown",
      "source": [
        "1.What is Python, and why is it popular?\n",
        "  - python is a high-level, interpreted programming language known for its simplicity, readability, and versatility. It was created by Guido van Rossum and first released in 1991. Also python is a powerful and flexible programming language that combines simplicity and functionality, making it one of the most popular and widely used languages today.\n",
        "\n",
        "  Python's simplicity, versatility and vast ecosystem make it one of the most popular and widely used programming languages today. Its ability to cater and working on cutting-edge technologies ensures its continued relevance and demand.\n",
        "\n",
        "2.What is an interpreter in Python?\n",
        "  - Python interpreter is a tool that translates and executes Python code line by line. Set of rules and symbols that define the structure and form of writing a computer program.\n",
        "\n",
        "3.What are pre-defined keywords in Python?\n",
        "  - Pre-defined keywords in Python are reserved words that have specific meanings and purposes in the language. They are part of Python's syntax and cannot be used as variable names, function names, or any other identifiers.\n",
        "\n",
        "  Pythgon Pre-defined keywords: False, None, True, and, as, assert, async, await, break, class, continue, def, del, elif, else, except, finally, for, from, global, if, import, in, is, lambda, nonlocal, not, or, pass, raise, return, try, while, with, yield.\n",
        "\n",
        "4.Can keywords be used as variable names?\n",
        "  - No, Python keywords cannot be used as variable names, keywords are reserved words that have specific meanings and are essential for the language's functionality.\n",
        "\n",
        "5.What is mutability in Python?\n",
        "  - Their values can be changed after creation. In other words mutability in Python refers to the ability of an object to be modified after it is created.\n",
        "\n",
        "6.Why are lists mutable, but tuples are immutable?\n",
        "  - Tuples are meant to represent fixed collections of items or Tuples are a data type that belongs to the sequence data type category often used to group related but unchanging data. This immutability ensures reliability when tuples are used as keys in dictionaries or elements in sets (both require hashable objects).\n",
        "\n",
        "7.What is the difference between “==” and “is” operators in Python?\n",
        "  - Both the == operator and the is operator are used for comparison.\n",
        "  '==' checks for value equality: Are the values of the objects the same?\n",
        "  'is' checks for identity equality: Are the objects the same in memory (i.e., do they refer to the same object)?\n",
        "\n",
        "8.What are logical operators in Python?\n",
        "  - Logical operators in Python are keywords that evaluate conditions and return a boolean value (True or False). They are used in conditional statements and expressions to make decisions and control the flow of a program. i.g., and, or, not .\n",
        "\n",
        "9.What is type casting in Python?\n",
        "  - Type casting in Python refers to the process of converting a variable from one data type to another. i.g., converting strings to numbers or floats to integers.\n",
        "\n",
        "10.What is the difference between implicit and explicit type casting?\n",
        "   - Both implicit and explicit type casting are methods of converting one data type into another in Python, but they differ in how and when the conversion happens.\n",
        "   \n",
        "   When Python automatically converts a smaller data type to a larger data type without any explicit instruction from the programmer. This is called implicit type casting.(e.g., int to float).\n",
        "\n",
        "   When we use specific functions to convert a variable from one data type to another, this allows the programmer to manually convert between types, ensuring that the correct data type is used when needed. Tgis is called explicit type casting or manual casting. (e.g., int(), float(), str()).\n",
        "\n",
        "11.What is the purpose of conditional statements in Python?\n",
        "   - Conditional statements in Python are used to control the flow of execution in a program based on whether certain conditions are True or False. Conditional statement allow a program to make decisions and take different actions depending on the values or states of variables, user inputs, or the results of expressions. They are crucial for implementing logic, branching, and decision-making in our code.\n",
        "\n",
        "12.How does the elif statement work?\n",
        "   - elif (short for else if) statement in Python is used to check multiple conditions when you need more than two options in a decision-making structure. It allows you to check additional conditions if the previous conditions are False.\n",
        "\n",
        "        if checks the first condition.\n",
        "        elif allows you to check additional conditions if the previous ones failed.\n",
        "        else provides a final fallback if none of the conditions are met.\n",
        "\n",
        "13.What is the difference between for and while loops?\n",
        "   - Both for and while loops are used for repeating a block of code multiple times, but they have different structures and use cases.\n",
        "   \n",
        "   e.g., a for loop is used when the number of iterations is known and a\n",
        "     while loop is used when we want to repeat a block of code an indefinite number of times untill a certain condition is no longer true.\n",
        "\n",
        "14.Describe a scenario where a while loop is more suitable than a for loop?\n",
        "   - A while loop is more suitable when you need to continuously check a condition or wait for an event to happen, such as user input or the completion of a task. This is particularly useful when the number of iterations is not known in advance and depends on a changing condition.\n",
        "\n",
        "  In scenarios where we need to repeat an action (such as asking for input) until a certain condition is met (e.g., valid input), a while loop is ideal because it runs as long as the condition is true and is not limited by a predefined number of iterations.\n",
        "    \n",
        "\n",
        "\n",
        "\n",
        "\n",
        "\n",
        "\n",
        "\n",
        "\n",
        "\n"
      ],
      "metadata": {
        "id": "-qOKGkxez9Ap"
      }
    },
    {
      "cell_type": "markdown",
      "source": [
        "#Practical Questions"
      ],
      "metadata": {
        "id": "_Y3akoJI0Ab3"
      }
    },
    {
      "cell_type": "code",
      "source": [
        "# Q1.Write a Python program to print \"Hello, World!\"\n",
        "\n",
        "(\"Hello, World!\")"
      ],
      "metadata": {
        "colab": {
          "base_uri": "https://localhost:8080/",
          "height": 35
        },
        "id": "wFuCESHUMLIZ",
        "outputId": "ae11170e-ba4f-4c16-cd6d-02e9a8df850d"
      },
      "execution_count": 2,
      "outputs": [
        {
          "output_type": "execute_result",
          "data": {
            "text/plain": [
              "'Hello, World!'"
            ],
            "application/vnd.google.colaboratory.intrinsic+json": {
              "type": "string"
            }
          },
          "metadata": {},
          "execution_count": 2
        }
      ]
    },
    {
      "cell_type": "code",
      "source": [
        "# Q2.Write a Python program that displays your name and age.\n",
        "\n",
        "name = \"Subham Bakuli\"\n",
        "age = 31\n",
        "\n",
        "print(name)\n",
        "print(age)"
      ],
      "metadata": {
        "colab": {
          "base_uri": "https://localhost:8080/"
        },
        "id": "9G9klCUiN8UL",
        "outputId": "a1ac318f-0808-4111-ee96-0da3abf2a77c"
      },
      "execution_count": 5,
      "outputs": [
        {
          "output_type": "stream",
          "name": "stdout",
          "text": [
            "Subham Bakuli\n",
            "31\n"
          ]
        }
      ]
    },
    {
      "cell_type": "code",
      "source": [
        "# Q3. Write code to print all the pre-defined keywords in Python using the keyword library.\n",
        "\n",
        "import keyword\n",
        "\n",
        "print(keyword.kwlist)"
      ],
      "metadata": {
        "colab": {
          "base_uri": "https://localhost:8080/"
        },
        "id": "RT5OnyYIP0Y4",
        "outputId": "8113b923-4f34-48f3-9af0-e778c36d774b"
      },
      "execution_count": 6,
      "outputs": [
        {
          "output_type": "stream",
          "name": "stdout",
          "text": [
            "['False', 'None', 'True', 'and', 'as', 'assert', 'async', 'await', 'break', 'class', 'continue', 'def', 'del', 'elif', 'else', 'except', 'finally', 'for', 'from', 'global', 'if', 'import', 'in', 'is', 'lambda', 'nonlocal', 'not', 'or', 'pass', 'raise', 'return', 'try', 'while', 'with', 'yield']\n"
          ]
        }
      ]
    },
    {
      "cell_type": "code",
      "source": [
        "#Q4. Write a program that checks if a given word is a Python keyword.\n",
        "\n",
        "word = (\"and\")\n",
        "\n",
        "if word in keyword.kwlist:\n",
        " print(f'\"{word}\" is a Python keyword.')\n",
        "else:\n",
        "    print(f'\"{word}\" is NOT a Python keyword.')"
      ],
      "metadata": {
        "colab": {
          "base_uri": "https://localhost:8080/"
        },
        "id": "UqhWr5TFTL6z",
        "outputId": "367f3bd8-4603-4f24-c72c-94ea0ef8ccb4"
      },
      "execution_count": 12,
      "outputs": [
        {
          "output_type": "stream",
          "name": "stdout",
          "text": [
            "\"and\" is a Python keyword.\n"
          ]
        }
      ]
    },
    {
      "cell_type": "code",
      "source": [
        "#Q5. Create a list and tuple in Python, and demonstrate how attempting to change an element works differently for each.\n",
        "\n",
        "# Creating a list and a tuple\n",
        "my_list = [30, 40, 50, 60]\n",
        "my_tuple = (30, 40, 50, 60)\n",
        "\n",
        "print(\"Original list:\", my_list)\n",
        "my_list[1] = 45  # Changing an element in the list\n",
        "print(\"Updated list:\", my_list)\n",
        "\n",
        "print(\"Original tuple:\", my_tuple)\n",
        "\n"
      ],
      "metadata": {
        "colab": {
          "base_uri": "https://localhost:8080/"
        },
        "id": "PJuaNulnUPGy",
        "outputId": "9450aa90-71b3-468d-967d-04814028fe0f"
      },
      "execution_count": 13,
      "outputs": [
        {
          "output_type": "stream",
          "name": "stdout",
          "text": [
            "Original list: [30, 40, 50, 60]\n",
            "Updated list: [30, 45, 50, 60]\n",
            "Original tuple: (30, 40, 50, 60)\n"
          ]
        }
      ]
    },
    {
      "cell_type": "code",
      "source": [
        "#Q6. Write a function to demonstrate the behavior of mutable and immutable arguments."
      ],
      "metadata": {
        "id": "NiHBJo46V5NT"
      },
      "execution_count": null,
      "outputs": []
    },
    {
      "cell_type": "code",
      "source": [
        "\n",
        "def demonstrate_mutability(mutable_arg, immutable_arg):\n",
        "\n",
        "    print(\"Before modifying mutable_arg:\", mutable_arg)\n",
        "    mutable_arg.append(4)\n",
        "    print(\"After modifying mutable_arg:\", mutable_arg)\n",
        "\n",
        "    print(\"Before modifying immutable_arg:\", immutable_arg)\n",
        "    immutable_arg += 1\n",
        "    print(\"After modifying immutable_arg:\", immutable_arg)\n",
        "\n",
        "\n",
        "my_list = [5, 6, 7]\n",
        "my_number = 20\n",
        "\n",
        "print(\"Original values before function call:\")\n",
        "print(\"my_list:\", my_list)\n",
        "print(\"my_number:\", my_number)\n",
        "\n",
        "demonstrate_mutability(my_list, my_number)\n",
        "\n",
        "print(\"\\nOriginal values after function call:\")\n",
        "print(\"my_list:\", my_list)\n",
        "print(\"my_number:\", my_number)\n",
        "\n",
        "\n",
        "\n"
      ],
      "metadata": {
        "colab": {
          "base_uri": "https://localhost:8080/"
        },
        "id": "54jJI0XmW3jB",
        "outputId": "781d6871-e54d-4943-e631-9fc68b84b884"
      },
      "execution_count": 16,
      "outputs": [
        {
          "output_type": "stream",
          "name": "stdout",
          "text": [
            "Original values before function call:\n",
            "my_list: [5, 6, 7]\n",
            "my_number: 20\n",
            "Before modifying mutable_arg: [5, 6, 7]\n",
            "After modifying mutable_arg: [5, 6, 7, 4]\n",
            "Before modifying immutable_arg: 20\n",
            "After modifying immutable_arg: 21\n",
            "\n",
            "Original values after function call:\n",
            "my_list: [5, 6, 7, 4]\n",
            "my_number: 20\n"
          ]
        }
      ]
    },
    {
      "cell_type": "code",
      "source": [
        "#Q7.Write a program to demonstrate the use of logical operators.\n",
        "\n",
        "#logical operators\n",
        "\n",
        "a = 70\n",
        "b = 30\n",
        "\n",
        "print(not False)\n",
        "print(not True)\n",
        "\n",
        "a = 70\n",
        "b = 30\n",
        "\n",
        "print(not False)\n",
        "print(not (a<b))\n"
      ],
      "metadata": {
        "colab": {
          "base_uri": "https://localhost:8080/"
        },
        "id": "DOtWZxD1YP-K",
        "outputId": "f6c89ea8-0fd8-4ba1-e541-7d8043c3a324"
      },
      "execution_count": 19,
      "outputs": [
        {
          "output_type": "stream",
          "name": "stdout",
          "text": [
            "True\n",
            "False\n",
            "True\n",
            "True\n"
          ]
        }
      ]
    },
    {
      "cell_type": "code",
      "source": [
        "#Q.8.Write a Python program to convert user input from string to integer, float, and boolean types.\n",
        "\n",
        "#convert string to tnt\n",
        "subham = \"31\"\n",
        "num = int(subham)\n",
        "print(num)\n",
        "\n",
        "#convert string to float\n",
        "subham = \"31.50\"\n",
        "\n",
        "\n",
        "num = float(subham)\n",
        "print(num)\n",
        "\n",
        "#convert string to boolean\n",
        "\n",
        "subham = \"True\"\n",
        "\n",
        "boolean_value = eval(subham)\n",
        "\n",
        "print(boolean_value)\n",
        "\n"
      ],
      "metadata": {
        "colab": {
          "base_uri": "https://localhost:8080/"
        },
        "id": "U4yQMRZicsHM",
        "outputId": "2cb31b54-48d5-4f28-9a4d-d29167cc10f7"
      },
      "execution_count": 25,
      "outputs": [
        {
          "output_type": "stream",
          "name": "stdout",
          "text": [
            "31\n",
            "31.5\n",
            "True\n"
          ]
        }
      ]
    },
    {
      "cell_type": "code",
      "source": [
        "#Q9.Write code to demonstrate type casting with list elements.\n",
        "\n",
        "#type conversion\n",
        "\n",
        "a = 2\n",
        "b = 6.25\n",
        "\n",
        "sum = a + b\n",
        "print(sum)\n",
        "\n",
        "a = int(\"2\")\n",
        "b = 6.25\n",
        "\n",
        "sum = a + b\n",
        "print(sum)"
      ],
      "metadata": {
        "colab": {
          "base_uri": "https://localhost:8080/"
        },
        "id": "aixVBgxremXt",
        "outputId": "59d182ec-45e9-45ef-a0d7-ec9580335017"
      },
      "execution_count": 28,
      "outputs": [
        {
          "output_type": "stream",
          "name": "stdout",
          "text": [
            "8.25\n",
            "8.25\n"
          ]
        }
      ]
    },
    {
      "cell_type": "code",
      "source": [
        "#Q10. Write a program that checks if a number is positive, negative, or zero.\n",
        "\n",
        "# Python program to check whether\n",
        "# the number is positive, negative\n",
        "# or equal to zero\n",
        "\n",
        "def check(n):\n",
        "\n",
        "\t# if the number is positive\n",
        "\tif n > 0:\n",
        "\t\tprint(\"Positive\")\n",
        "\n",
        "\t# if the number is negative\n",
        "\telif n < 0:\n",
        "\t\tprint(\"Negative\")\n",
        "\n",
        "\t# if the number is equal to\n",
        "\t# zero\n",
        "\telse:\n",
        "\t\tprint(\"Equal to zero\")\n",
        "\n",
        "# Driver Code\n",
        "check(5)\n",
        "check(0)\n",
        "check(-5)\n"
      ],
      "metadata": {
        "colab": {
          "base_uri": "https://localhost:8080/"
        },
        "id": "E76LGkWchCjV",
        "outputId": "1b379154-b43a-49e3-e391-bceb02911ed2"
      },
      "execution_count": 29,
      "outputs": [
        {
          "output_type": "stream",
          "name": "stdout",
          "text": [
            "Positive\n",
            "Equal to zero\n",
            "Negative\n"
          ]
        }
      ]
    },
    {
      "cell_type": "code",
      "source": [
        "#Q11.Write a for loop to print numbers from 1 to 10.\n",
        "\n",
        "\n",
        "for number in range(1, 11):\n",
        "   print(number)\n"
      ],
      "metadata": {
        "colab": {
          "base_uri": "https://localhost:8080/"
        },
        "id": "erDVGWy4iMyf",
        "outputId": "bd0756e3-d389-40a6-d42c-324a2defa8c5"
      },
      "execution_count": 32,
      "outputs": [
        {
          "output_type": "stream",
          "name": "stdout",
          "text": [
            "1\n",
            "2\n",
            "3\n",
            "4\n",
            "5\n",
            "6\n",
            "7\n",
            "8\n",
            "9\n",
            "10\n"
          ]
        }
      ]
    },
    {
      "cell_type": "code",
      "source": [
        "#Q12. 0 Write a Python program to find the sum of all even numbers between 1 and 50.\n",
        "\n",
        "\n",
        "sum_of_evens = 0\n",
        "\n",
        "for number in range(1, 51):\n",
        "    if number % 2 == 0:\n",
        "        sum_of_evens += number\n",
        "\n",
        "print(\"The sum of all even numbers between 1 and 50 is:\", sum_of_evens)\n",
        "\n"
      ],
      "metadata": {
        "colab": {
          "base_uri": "https://localhost:8080/"
        },
        "id": "PKuqE9xkiyJ1",
        "outputId": "0d75b15c-11d4-454d-80ef-246aa21a99d9"
      },
      "execution_count": 35,
      "outputs": [
        {
          "output_type": "stream",
          "name": "stdout",
          "text": [
            "The sum of all even numbers between 1 and 50 is: 650\n"
          ]
        }
      ]
    },
    {
      "cell_type": "code",
      "source": [
        "#Q13.Write a program to reverse a string using a while loop.\n",
        "\n",
        "s = \"Subham\"\n",
        "\n",
        "rev = \"\"\n",
        "\n",
        "for ch in s:\n",
        "\n",
        "    rev = ch + rev\n",
        "\n",
        "print(rev)"
      ],
      "metadata": {
        "colab": {
          "base_uri": "https://localhost:8080/"
        },
        "id": "orwqEpMhkSTN",
        "outputId": "c58b61b3-0b9f-459e-fe4e-ec7782c6af4e"
      },
      "execution_count": 37,
      "outputs": [
        {
          "output_type": "stream",
          "name": "stdout",
          "text": [
            "mahbuS\n"
          ]
        }
      ]
    },
    {
      "cell_type": "code",
      "source": [
        "#Q14. Write a Python program to calculate the factorial of a number provided by the user using a while loop.\n",
        "no=7\n",
        "fact=1\n",
        "while(no>1):\n",
        "    fact=fact*no\n",
        "    no=no-1\n",
        "    print(fact)\n",
        ""
      ],
      "metadata": {
        "colab": {
          "base_uri": "https://localhost:8080/"
        },
        "id": "rJblQ2U2ooqm",
        "outputId": "794ed8b5-8d3a-401e-ffc7-d8b0b6b06b3a"
      },
      "execution_count": 44,
      "outputs": [
        {
          "output_type": "stream",
          "name": "stdout",
          "text": [
            "7\n",
            "42\n",
            "210\n",
            "840\n",
            "2520\n",
            "5040\n"
          ]
        }
      ]
    }
  ]
}